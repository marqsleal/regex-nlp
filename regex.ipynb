{
 "cells": [
  {
   "cell_type": "markdown",
   "metadata": {},
   "source": [
    "# Expressões regulares orientadas ao processamento de linguagem natural"
   ]
  },
  {
   "cell_type": "markdown",
   "metadata": {},
   "source": [
    "## REGEX"
   ]
  },
  {
   "cell_type": "markdown",
   "metadata": {},
   "source": [
    "### Metacaracteres Especiais"
   ]
  },
  {
   "cell_type": "markdown",
   "metadata": {},
   "source": [
    "- `.`: Qualquer caractere (exceto `\\n`);  \n",
    "Exemplo: `a.c` - Corresponde a \"abc\", \"a1c\", etc;  \n",
    "\n",
    "- `\\d`: Dígitos (digits - `0/9`);  \n",
    "Exemplo: `\\d+` - Corresponde a \"123\", \"4\", etc;  \n",
    "\n",
    "- `\\w`: Caracteres alfanuméricos (words - `a-z`, `A-Z`, `0-9`, _);  \n",
    "Exemplo: `\\w+`- Corresponde a \"palavra123\" ou \"_variavel\";  \n",
    "\n",
    "- `\\s`: Qualquer espaço em branco (space - espaço, tab, nova linha);  \n",
    "Exemplo: `\\s+` - Corresponde a todos os tipos de espaços e quebras de linha;  \n",
    " \n",
    "- `\\b`: Fronteira palavra (border);  \n",
    "Exemplo: `\\bword\\b` - Corresponde a \"word\" como uma palavra completa.\n"
   ]
  },
  {
   "cell_type": "markdown",
   "metadata": {},
   "source": [
    "### Âncoras"
   ]
  },
  {
   "cell_type": "markdown",
   "metadata": {},
   "source": [
    "- `^`: Início de uma linha;  \n",
    "Exemplo: `^ola` - Corresponde a \"Olá\" no início da string;  \n",
    "\n",
    "- `$`: Fim de uma linha;  \n",
    "Exemplo: `fim$` - Corresponde a \"fim\" no final da string;  "
   ]
  },
  {
   "cell_type": "markdown",
   "metadata": {},
   "source": [
    "### Quantificadores"
   ]
  },
  {
   "cell_type": "markdown",
   "metadata": {},
   "source": [
    "- `*`: Zero ou mais ocorrências;  \n",
    "Exemplo: `a*` - Corresponde a \"\" (nenhum) ou \"aaaa\";  \n",
    "\n",
    "- `+`: Uma ou mais ocorrências;  \n",
    "Exemplo: `a+` - Corresponde a \"a\", \"aa\", \"aaa\", etc;  \n",
    "\n",
    "- `?`: Zero ou uma ocorrência (boolean);  \n",
    "Exemplo: `a?`- Corresponde a \"\" (nenhum) ou \"a\";  \n",
    "\n",
    "- `{n}`: Exatamente n ocorrências;  \n",
    "Exemplo: `a{3}` - Corresponde a \"aaa\";  \n",
    " \n",
    "- `{n,}`: Pelo menos n ocorrências;  \n",
    "Exemplo: `a{2,}` - Corresponde a \"aa\", \"aaa\", \"aaaa\", etc;  \n",
    "\n",
    "- `{n,m}`: Entre n e m ocorrências (range);  \n",
    "Exemplo: `a{2,5}` - Corresponde a \"aa\", \"aaa\", \"aaaa\", \"aaaaa\";"
   ]
  },
  {
   "cell_type": "markdown",
   "metadata": {},
   "source": [
    "### Conjuntos de Caracteres"
   ]
  },
  {
   "cell_type": "markdown",
   "metadata": {},
   "source": [
    "- `[abc]`: Qualquer caractere \"a\", \"b\", ou \"c\";  \n",
    "Exemplo: `[abc]` - Corresponde a \"a\", \"b\", ou \"c\";  \n",
    "\n",
    "- `[a-z]`: Qualquer caractere entre \"a\" e \"z\" (minúsculas);  \n",
    "Exemplo: `[a-z]` - Corresponde a qualquer letra minúscula;  \n",
    "\n",
    "- `[A-Z]`: Qualquer caractere entre \"A\" e \"Z\" (maiúsculas);  \n",
    "Exemplo: `[A-Z]`- Corresponde a qualquer letra maiúscula;  \n",
    "\n",
    "- `[0-9]`: Qualquer dígito;  \n",
    "Exemplo: `[0-9]` - Corresponde a \"0\", \"1\", \"2\", ..., \"9\";  \n",
    " \n",
    "- `[^abc]`: Negação (tudo exceto \"a\", \"b\", ou \"c\");  \n",
    "Exemplo: `[^a-z]` - Corresponde a qualquer coisa que não seja uma letra minúscula;"
   ]
  },
  {
   "cell_type": "markdown",
   "metadata": {},
   "source": [
    "### Agrupamentos"
   ]
  },
  {
   "cell_type": "markdown",
   "metadata": {},
   "source": [
    "- `(abc)`: Agrupamento de padrões;  \n",
    "Exemplo: `(abc)` - Corresponde ao padrão \"abc\";    \n",
    "\n",
    "- `(abc){n}`: Agrupamento de padrões que se repetem n vezes;  \n",
    "Exemplo: `(abc){2}` - \"abc\" deve aparecer exatamente 2 vezes;  "
   ]
  },
  {
   "cell_type": "markdown",
   "metadata": {},
   "source": [
    "### Caracteres Especiais"
   ]
  },
  {
   "cell_type": "markdown",
   "metadata": {},
   "source": [
    "- `\\{c}`: Corresponde à um caractere especial e/ou reservado (como `.`, `\\`, etc);  \n",
    "Exemplo: `\\.` - Corresponde a um ponto literal \".\";"
   ]
  },
  {
   "cell_type": "markdown",
   "metadata": {},
   "source": [
    "## Biblioteca `re` do python - Regex"
   ]
  },
  {
   "cell_type": "markdown",
   "metadata": {},
   "source": [
    "Biblioteca utilizada pela linguagem `python` para a manipulação de expressões regulares, regex."
   ]
  },
  {
   "cell_type": "markdown",
   "metadata": {},
   "source": [
    "## import"
   ]
  },
  {
   "cell_type": "code",
   "execution_count": 1,
   "metadata": {},
   "outputs": [],
   "source": [
    "import re"
   ]
  },
  {
   "cell_type": "markdown",
   "metadata": {},
   "source": [
    "### `re.match()`"
   ]
  },
  {
   "cell_type": "markdown",
   "metadata": {},
   "source": [
    "Verifica se o padrão corresponde ao início da string. Retorna um objeto de correspondência se houver uma correspondência, ou `None` se não houver.\n",
    "\n",
    "```python\n",
    "re.match(pattern, string, flags=0)\n",
    "```"
   ]
  },
  {
   "cell_type": "code",
   "execution_count": 2,
   "metadata": {},
   "outputs": [
    {
     "name": "stdout",
     "output_type": "stream",
     "text": [
      "123\n"
     ]
    }
   ],
   "source": [
    "resultado = re.match(r'\\d+', '123abc')\n",
    "print(resultado.group()) "
   ]
  },
  {
   "cell_type": "markdown",
   "metadata": {},
   "source": [
    "### `re.search()`"
   ]
  },
  {
   "cell_type": "markdown",
   "metadata": {},
   "source": [
    "Procura o padrão em qualquer parte da string e retorna a primeira correspondência encontrada. Se o padrão for encontrado, retorna um objeto de correspondência; caso contrário, retorna `None`.\n",
    "\n",
    "```python\n",
    "re.search(pattern, string, flags=0)\n",
    "```"
   ]
  },
  {
   "cell_type": "code",
   "execution_count": 3,
   "metadata": {},
   "outputs": [
    {
     "name": "stdout",
     "output_type": "stream",
     "text": [
      "123\n"
     ]
    }
   ],
   "source": [
    "resultado = re.search(r'\\d+', 'abc123def')\n",
    "print(resultado.group()) "
   ]
  },
  {
   "cell_type": "markdown",
   "metadata": {},
   "source": [
    "### `re.findall()`"
   ]
  },
  {
   "cell_type": "markdown",
   "metadata": {},
   "source": [
    "Retorna todas as correspondências do padrão na string como uma lista. Se não houver correspondências, retorna uma lista vazia.\n",
    "\n",
    "```python\n",
    "re.findall(pattern, string, flags=0)\n",
    "```"
   ]
  },
  {
   "cell_type": "code",
   "execution_count": 4,
   "metadata": {},
   "outputs": [
    {
     "name": "stdout",
     "output_type": "stream",
     "text": [
      "['123', '456']\n"
     ]
    }
   ],
   "source": [
    "resultado = re.findall(r'\\d+', 'abc123def456')\n",
    "print(resultado)"
   ]
  },
  {
   "cell_type": "markdown",
   "metadata": {},
   "source": [
    "### `re.sub()`"
   ]
  },
  {
   "cell_type": "markdown",
   "metadata": {},
   "source": [
    "Substitui todas as ocorrências do padrão por uma nova string. Pode ser usada para limpeza e transformação de texto.\n",
    "\n",
    "```python\n",
    "re.sub(pattern, repl, string, count=0, flags=0)\n",
    "```\n",
    "\n",
    "- `pattern`: o padrão a ser substituído;\n",
    "- `repl`: a string ou função de substituição;\n",
    "- `count`: o número máximo de substituições (opcional);"
   ]
  },
  {
   "cell_type": "code",
   "execution_count": 5,
   "metadata": {},
   "outputs": [
    {
     "name": "stdout",
     "output_type": "stream",
     "text": [
      "abcnúmerodefnúmero\n"
     ]
    }
   ],
   "source": [
    "resultado = re.sub(r'\\d+', 'número', 'abc123def456')\n",
    "print(resultado)"
   ]
  },
  {
   "cell_type": "markdown",
   "metadata": {},
   "source": [
    "### `re.split()`"
   ]
  },
  {
   "cell_type": "markdown",
   "metadata": {},
   "source": [
    "Divide a string com base no padrão e retorna uma lista com as partes. Funciona como `str.split()`, mas com suporte para padrões complexos de divisão.\n",
    "\n",
    "```python\n",
    "re.split(pattern, string, maxsplit=0, flags=0)\n",
    "```\n",
    "\n",
    "- `pattern`: o padrão a ser usado para divisão;\n",
    "- `maxsplit`: o número máximo de divisões (opcional);"
   ]
  },
  {
   "cell_type": "code",
   "execution_count": 6,
   "metadata": {},
   "outputs": [
    {
     "name": "stdout",
     "output_type": "stream",
     "text": [
      "['Olá', 'tudo', 'bem']\n"
     ]
    }
   ],
   "source": [
    "resultado = re.split(r'\\s+', 'Olá tudo bem')\n",
    "print(resultado)"
   ]
  },
  {
   "cell_type": "markdown",
   "metadata": {},
   "source": [
    "### `re.compile()`"
   ]
  },
  {
   "cell_type": "markdown",
   "metadata": {},
   "source": [
    "Compila um padrão em um objeto REGEX, permitindo seu reuso. Isso pode melhorar a eficiência quando o mesmo padrão é utilizado várias vezes.\n",
    "\n",
    "```python\n",
    "re.compile(pattern, flags=0)\n",
    "```"
   ]
  },
  {
   "cell_type": "code",
   "execution_count": 7,
   "metadata": {},
   "outputs": [
    {
     "name": "stdout",
     "output_type": "stream",
     "text": [
      "['123', '456']\n"
     ]
    }
   ],
   "source": [
    "padrao = re.compile(r'\\d+')\n",
    "resultado = padrao.findall('abc123def456')\n",
    "print(resultado)"
   ]
  },
  {
   "cell_type": "markdown",
   "metadata": {},
   "source": [
    "### `re.finditer()`"
   ]
  },
  {
   "cell_type": "markdown",
   "metadata": {},
   "source": [
    "Retorna um iterador com todas as correspondências encontradas como objetos de correspondência. É útil quando precisamos de mais detalhes sobre cada correspondência, como suas posições.\n",
    "\n",
    "```python\n",
    "re.finditer(pattern, string, flags=0)\n",
    "```"
   ]
  },
  {
   "cell_type": "code",
   "execution_count": 8,
   "metadata": {},
   "outputs": [
    {
     "name": "stdout",
     "output_type": "stream",
     "text": [
      "123\n",
      "456\n"
     ]
    }
   ],
   "source": [
    "for match in re.finditer(r'\\d+', 'abc123def456'):\n",
    "    print(match.group())\n"
   ]
  },
  {
   "cell_type": "markdown",
   "metadata": {},
   "source": [
    "### `re.fullmatch()`"
   ]
  },
  {
   "cell_type": "markdown",
   "metadata": {},
   "source": [
    "Verifica se a string inteira corresponde ao padrão (não apenas uma parte dela). Se houver correspondência completa, retorna um objeto de correspondência, caso contrário, retorna `None`.\n",
    "\n",
    "```python\n",
    "re.fullmatch(pattern, string, flags=0)\n",
    "```"
   ]
  },
  {
   "cell_type": "code",
   "execution_count": 9,
   "metadata": {},
   "outputs": [
    {
     "name": "stdout",
     "output_type": "stream",
     "text": [
      "<re.Match object; span=(0, 6), match='123456'>\n"
     ]
    }
   ],
   "source": [
    "resultado = re.fullmatch(r'\\d+', '123456')\n",
    "print(resultado)"
   ]
  },
  {
   "cell_type": "markdown",
   "metadata": {},
   "source": [
    "### Exemplos"
   ]
  },
  {
   "cell_type": "markdown",
   "metadata": {},
   "source": [
    "#### Encontrar datas no formato dd/mm/aaaa."
   ]
  },
  {
   "cell_type": "code",
   "execution_count": 10,
   "metadata": {},
   "outputs": [
    {
     "name": "stdout",
     "output_type": "stream",
     "text": [
      "Data formatada: 01/09/2024, Data como datetime: 2024-09-01 00:00:00\n",
      "Data formatada: 15/10/2023, Data como datetime: 2023-10-15 00:00:00\n"
     ]
    }
   ],
   "source": [
    "from datetime import datetime\n",
    "\n",
    "datas = \"01/09/2024, 15/10/2023, 99/99/9999\"\n",
    "\n",
    "# Regex\n",
    "day_regex = r'(0[1-9]|[12][0-9]|3[01])'\n",
    "month_regex = r'(0[1-9]|1[0-2])'\n",
    "year_regex = r'(\\d{4})'\n",
    "regex_data_ddmmaaaa = rf'\\b{day_regex}/{month_regex}/{year_regex}\\b'\n",
    "\n",
    "# Filtragem por Regex\n",
    "datas_encontradas = re.findall(regex_data_ddmmaaaa, datas)\n",
    "\n",
    "# String - Datetime\n",
    "datas_formatadas = [f\"{dia}/{mes}/{ano}\" for dia, mes, ano in datas_encontradas]\n",
    "datas_datetime = [datetime.strptime(data, '%d/%m/%Y') for data in datas_formatadas]\n",
    "\n",
    "# Print\n",
    "for data_formatada, data_objeto in zip(datas_formatadas, datas_datetime):\n",
    "    print(f\"Data formatada: {data_formatada}, Data como datetime: {data_objeto}\")\n"
   ]
  },
  {
   "cell_type": "markdown",
   "metadata": {},
   "source": [
    "#### Email"
   ]
  },
  {
   "cell_type": "code",
   "execution_count": 11,
   "metadata": {},
   "outputs": [
    {
     "name": "stdout",
     "output_type": "stream",
     "text": [
      "['joao.silva@example.com', 'maria_123@dominio.org', 'contato@empresa.co.br', 'joao..silva@example.com']\n"
     ]
    }
   ],
   "source": [
    "texto = \"\"\"\n",
    "Você pode entrar em contato através dos seguintes e-mails:\n",
    "joao.silva@example.com, maria_123@dominio.org, contato@empresa.co.br.\n",
    "E-mails inválidos: joao..silva@example.com e @dominio.com\n",
    "\"\"\"\n",
    "\n",
    "# Regex\n",
    "usr_regex = r'[a-zA-Z0-9._%+-]'\n",
    "domain_regex = r'[a-zA-Z0-9.-]'\n",
    "tld_regex = r'[a-zA-Z]{2,}'\n",
    "\n",
    "email_regex = rf'{usr_regex}+@{domain_regex}+\\.{tld_regex}'\n",
    "\n",
    "# Filtragem Regex\n",
    "remails = re.findall(email_regex, texto)\n",
    "\n",
    "print(remails)\n"
   ]
  },
  {
   "cell_type": "markdown",
   "metadata": {},
   "source": [
    "#### Caracteres Especiais"
   ]
  },
  {
   "cell_type": "code",
   "execution_count": 12,
   "metadata": {},
   "outputs": [
    {
     "name": "stdout",
     "output_type": "stream",
     "text": [
      "Olá Como você está Espero que sim Python 2024\n"
     ]
    }
   ],
   "source": [
    "texto = \"Olá! Como você está? Espero que sim... #Python @2024\"\n",
    "\n",
    "regex_caracteres_especiais = r'[^a-zA-Z0-9á-üÁ-Ü\\s]'\n",
    "\n",
    "texto_limpo = re.sub(regex_caracteres_especiais, '', texto)\n",
    "\n",
    "print(texto_limpo)"
   ]
  },
  {
   "cell_type": "markdown",
   "metadata": {},
   "source": [
    "#### Texto com números por palavras"
   ]
  },
  {
   "cell_type": "code",
   "execution_count": 13,
   "metadata": {},
   "outputs": [
    {
     "name": "stdout",
     "output_type": "stream",
     "text": [
      "Tenho dois gatos, três cachorros e quatro aves\n"
     ]
    }
   ],
   "source": [
    "texto = 'Tenho 2 gatos, 3 cachorros e 4 aves'\n",
    "\n",
    "def digito_para_palavra(match):\n",
    "    digito_palavra = {'0': 'zero', '1': 'um', '2': 'dois', '3': 'três',\n",
    "        '4': 'quatro', '5': 'cinco', '6': 'seis', '7': 'sete',\n",
    "        '8': 'oito', '9': 'nove'}\n",
    "    return digito_palavra[match.group(0)]\n",
    "\n",
    "regex_numeros = r'\\d'\n",
    "\n",
    "texto_filtrado = re.sub(regex_numeros, digito_para_palavra, texto)\n",
    "\n",
    "print(texto_filtrado)\n",
    "    "
   ]
  },
  {
   "cell_type": "markdown",
   "metadata": {},
   "source": [
    "#### Telefones Válidos"
   ]
  },
  {
   "cell_type": "code",
   "execution_count": 14,
   "metadata": {},
   "outputs": [
    {
     "name": "stdout",
     "output_type": "stream",
     "text": [
      "Telefones válidos: ['(21) 98765-4321', '(11) 1234-5678']\n"
     ]
    }
   ],
   "source": [
    "lista_telefones = [\"(21) 98765-4321\", \"(11) 1234-5678\", \"(00) 123-456\", \"(21) 12345-678\"]\n",
    "\n",
    "regex_ddd = r'\\(\\d{2}\\)'\n",
    "regex_fix = r'\\d{4}-\\d{4}'\n",
    "regex_cel = r'\\d{5}-\\d{4}'\n",
    "regex_telefones = rf'{regex_ddd} ({regex_cel}|{regex_fix})'\n",
    "\n",
    "telefones_validos = [tel for tel in lista_telefones if re.match(regex_telefones, tel)]\n",
    "\n",
    "print(\"Telefones válidos:\", telefones_validos)\n"
   ]
  },
  {
   "cell_type": "markdown",
   "metadata": {},
   "source": [
    "#### Palavras com letras maiúsculas"
   ]
  },
  {
   "cell_type": "code",
   "execution_count": 15,
   "metadata": {},
   "outputs": [
    {
     "name": "stdout",
     "output_type": "stream",
     "text": [
      "['Maria', 'João', 'Pedro', 'Ana']\n"
     ]
    }
   ],
   "source": [
    "texto = \"Maria foi ao mercado, João comprou pão, e Pedro levou Ana para a escola.\"\n",
    "\n",
    "regex_upper = r'\\b[A-ZÁ-Ú][a-zá-ú]*\\b'\n",
    "\n",
    "upper_words = re.findall(regex_upper, texto)\n",
    "\n",
    "print(upper_words)"
   ]
  },
  {
   "cell_type": "markdown",
   "metadata": {},
   "source": [
    "## Processando de linguagem natural"
   ]
  },
  {
   "cell_type": "markdown",
   "metadata": {},
   "source": [
    "### Tokenização\n",
    "Utilizar regex para dividir o texto em tokens considerando várias formas de separação, como ponto, virgula e múltiplos espaços."
   ]
  },
  {
   "cell_type": "code",
   "execution_count": 16,
   "metadata": {},
   "outputs": [
    {
     "name": "stdout",
     "output_type": "stream",
     "text": [
      "['Bom', 'dia', 'como', 'você', 'esta']\n"
     ]
    }
   ],
   "source": [
    "texto = 'Bom dia, como você esta?'\n",
    "tokens = re.findall(r'\\w+', texto)\n",
    "print(tokens)"
   ]
  },
  {
   "cell_type": "markdown",
   "metadata": {},
   "source": [
    "### Remover Stopwords e Pontuação"
   ]
  },
  {
   "cell_type": "markdown",
   "metadata": {},
   "source": [
    "`\\w+` captura grupos de caracteres alfanuméricos(words, `w`), ignorando puntações e espaços."
   ]
  },
  {
   "cell_type": "code",
   "execution_count": 17,
   "metadata": {},
   "outputs": [
    {
     "name": "stdout",
     "output_type": "stream",
     "text": [
      "Bom dia como você esta\n"
     ]
    }
   ],
   "source": [
    "texto_limpo = re.sub(r'[^\\w\\s]', '', texto)\n",
    "print(texto_limpo)"
   ]
  },
  {
   "cell_type": "markdown",
   "metadata": {},
   "source": [
    "### Normalização de Texto (como remoção de acentos)"
   ]
  },
  {
   "cell_type": "markdown",
   "metadata": {},
   "source": [
    "Regex pode ser combinado com bibliotecas como unidecode para remover acentos de forma eficiente."
   ]
  },
  {
   "cell_type": "code",
   "execution_count": 18,
   "metadata": {},
   "outputs": [
    {
     "name": "stdout",
     "output_type": "stream",
     "text": [
      "A aplicacao de NLP envolve analise de padroes linguisticos.\n"
     ]
    }
   ],
   "source": [
    "texto = \"A aplicação de NLP envolve análise de padrões linguísticos.\"\n",
    "\n",
    "def remove_acento(match):\n",
    "    acentuadas = {\n",
    "    'á': 'a', 'à': 'a', 'ã': 'a', 'â': 'a',\n",
    "    'é': 'e', 'ê': 'e',\n",
    "    'í': 'i',\n",
    "    'ó': 'o', 'ô': 'o', 'õ': 'o',\n",
    "    'ú': 'u',\n",
    "    'ç': 'c'\n",
    "    }\n",
    "    return acentuadas[match.group(0)]\n",
    "\n",
    "regex_acentos = r'[á-ú]'\n",
    "\n",
    "texto_filtrado = re.sub(regex_acentos, remove_acento, texto)\n",
    "\n",
    "print(texto_filtrado)"
   ]
  },
  {
   "cell_type": "markdown",
   "metadata": {},
   "source": [
    "#### Extração de Entidades com Regex"
   ]
  },
  {
   "cell_type": "markdown",
   "metadata": {},
   "source": [
    "Você pode usar regex para extrair entidades específicas, como e-mails, datas, URLs ou nomes próprios (como já vimos no exemplo de palavras com maiúscula)."
   ]
  },
  {
   "cell_type": "code",
   "execution_count": 19,
   "metadata": {},
   "outputs": [
    {
     "name": "stdout",
     "output_type": "stream",
     "text": [
      "['email1@empresa.com', 'email2@exemplo.org']\n"
     ]
    }
   ],
   "source": [
    "texto = 'Entre em contato: email1@empresa.com ou email2@exemplo.org'\n",
    "\n",
    "# Regex\n",
    "usr_regex = r'[a-zA-Z0-9._%+-]'\n",
    "domain_regex = r'[a-zA-Z0-9.-]'\n",
    "tld_regex = r'[a-zA-Z]{2,}'\n",
    "\n",
    "email_regex = rf'{usr_regex}+@{domain_regex}+\\.{tld_regex}'\n",
    "\n",
    "# Filtragem Regex\n",
    "remails = re.findall(email_regex, texto)\n",
    "\n",
    "print(remails)"
   ]
  },
  {
   "cell_type": "markdown",
   "metadata": {},
   "source": [
    "#### Normalização de Texto (Datas, Telefones, etc.)"
   ]
  },
  {
   "cell_type": "markdown",
   "metadata": {},
   "source": [
    "A regex pode ser usada para detectar e transformar formatos de dados em textos, como números de telefone e datas."
   ]
  },
  {
   "cell_type": "code",
   "execution_count": 20,
   "metadata": {},
   "outputs": [
    {
     "name": "stdout",
     "output_type": "stream",
     "text": [
      "Data formatada: 15/10/2023, Data como datetime: 2023-10-15 00:00:00\n",
      "Data formatada: 01/09/2024, Data como datetime: 2024-09-01 00:00:00\n"
     ]
    }
   ],
   "source": [
    "from datetime import datetime\n",
    "\n",
    "texto = \"A reunião será no dia 15/10/2023 e outra em 01-09-2024.\"\n",
    "\n",
    "# Regex\n",
    "day_regex = r'(0[1-9]|[12][0-9]|3[01])'\n",
    "month_regex = r'(0[1-9]|1[0-2])'\n",
    "year_regex = r'(\\d{4})'\n",
    "regex_data_ddmmaaaa = rf'\\b{day_regex}[/-]{month_regex}[/-]{year_regex}\\b'\n",
    "\n",
    "# Filtragem por Regex\n",
    "datas_encontradas = re.findall(regex_data_ddmmaaaa, texto)\n",
    "\n",
    "# String - Datetime\n",
    "datas_formatadas = [f\"{dia}/{mes}/{ano}\" for dia, mes, ano in datas_encontradas]\n",
    "datas_datetime = [datetime.strptime(data, '%d/%m/%Y') for data in datas_formatadas]\n",
    "\n",
    "# Print\n",
    "for data_formatada, data_objeto in zip(datas_formatadas, datas_datetime):\n",
    "    print(f\"Data formatada: {data_formatada}, Data como datetime: {data_objeto}\")"
   ]
  },
  {
   "cell_type": "markdown",
   "metadata": {},
   "source": [
    "#### Lematização e Stemming com Regex"
   ]
  },
  {
   "cell_type": "markdown",
   "metadata": {},
   "source": [
    "Você pode usar regex para criar regras simples de stemming ou lemmatização personalizada, embora normalmente se usem bibliotecas específicas como o NLTK."
   ]
  },
  {
   "cell_type": "code",
   "execution_count": 21,
   "metadata": {},
   "outputs": [
    {
     "name": "stdout",
     "output_type": "stream",
     "text": [
      "['corr', 'corr', 'corre']\n"
     ]
    }
   ],
   "source": [
    "import re\n",
    "\n",
    "palavras = [\"correndo\", \"correu\", \"corre\"]\n",
    "\n",
    "palavras_stemmed = [re.sub(r'(ando|endo|iu|eu)$', '', palavra) for palavra in palavras]\n",
    "\n",
    "print(palavras_stemmed)\n"
   ]
  }
 ],
 "metadata": {
  "kernelspec": {
   "display_name": "airflow_env",
   "language": "python",
   "name": "python3"
  },
  "language_info": {
   "codemirror_mode": {
    "name": "ipython",
    "version": 3
   },
   "file_extension": ".py",
   "mimetype": "text/x-python",
   "name": "python",
   "nbconvert_exporter": "python",
   "pygments_lexer": "ipython3",
   "version": "3.12.3"
  }
 },
 "nbformat": 4,
 "nbformat_minor": 2
}
